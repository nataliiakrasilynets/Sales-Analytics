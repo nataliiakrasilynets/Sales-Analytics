{
  "nbformat": 4,
  "nbformat_minor": 0,
  "metadata": {
    "colab": {
      "provenance": [],
      "authorship_tag": "ABX9TyOKykEVn2OxRuCL48XMV7vZ",
      "include_colab_link": true
    },
    "kernelspec": {
      "name": "python3",
      "display_name": "Python 3"
    },
    "language_info": {
      "name": "python"
    }
  },
  "cells": [
    {
      "cell_type": "markdown",
      "metadata": {
        "id": "view-in-github",
        "colab_type": "text"
      },
      "source": [
        "<a href=\"https://colab.research.google.com/github/nataliiakrasilynets/Sales-Analytics/blob/main/Portfolio_Project_1.ipynb\" target=\"_parent\"><img src=\"https://colab.research.google.com/assets/colab-badge.svg\" alt=\"Open In Colab\"/></a>"
      ]
    },
    {
      "cell_type": "markdown",
      "source": [
        "#Завантаження даних та бібліотек"
      ],
      "metadata": {
        "id": "ROdQu4yfFfqp"
      }
    },
    {
      "cell_type": "code",
      "execution_count": null,
      "metadata": {
        "colab": {
          "base_uri": "https://localhost:8080/"
        },
        "id": "K8zgGf0Qdr6j",
        "outputId": "a8df7a5a-6c25-4564-f3c4-881b523bb6a7"
      },
      "outputs": [
        {
          "output_type": "stream",
          "name": "stdout",
          "text": [
            "Mounted at /content/drive\n"
          ]
        }
      ],
      "source": [
        "# Connecting Google Drive\n",
        "from google.colab import drive\n",
        "drive.mount(\"/content/drive\")"
      ]
    },
    {
      "cell_type": "code",
      "source": [
        "# Changing work folder\n",
        "%cd /content/drive/MyDrive/PythonforDataAnalytics/"
      ],
      "metadata": {
        "colab": {
          "base_uri": "https://localhost:8080/"
        },
        "id": "S55x0Xzadzz6",
        "outputId": "797faa8c-9f84-4ff8-d4b1-7847783ec5cc"
      },
      "execution_count": null,
      "outputs": [
        {
          "output_type": "stream",
          "name": "stdout",
          "text": [
            "/content/drive/MyDrive/PythonforDataAnalytics\n"
          ]
        }
      ]
    },
    {
      "cell_type": "code",
      "source": [
        "#Завантажуємо бібліотеки\n",
        "import pandas as pd\n",
        "import numpy as np\n",
        "import matplotlib.pyplot as plt\n",
        "import seaborn as sns\n",
        "ab = pd.read_csv(\"A_B_testing.csv\")"
      ],
      "metadata": {
        "id": "9DeC643Ld2iW"
      },
      "execution_count": null,
      "outputs": []
    },
    {
      "cell_type": "code",
      "source": [
        "ab"
      ],
      "metadata": {
        "colab": {
          "base_uri": "https://localhost:8080/",
          "height": 423
        },
        "id": "bvYnmuGunQDJ",
        "outputId": "558ffcc8-1956-4403-9b7a-7e960eafbaa9"
      },
      "execution_count": null,
      "outputs": [
        {
          "output_type": "execute_result",
          "data": {
            "text/plain": [
              "              date               country   device continent         channel  \\\n",
              "0       2020-11-01             Lithuania   mobile    Europe  Organic Search   \n",
              "1       2020-11-01           El Salvador  desktop  Americas   Social Search   \n",
              "2       2020-11-01              Slovakia   mobile    Europe     Paid Search   \n",
              "3       2020-11-01             Lithuania  desktop    Europe     Paid Search   \n",
              "4       2020-11-02       North Macedonia  desktop    Europe          Direct   \n",
              "...            ...                   ...      ...       ...             ...   \n",
              "800991  2020-11-22  United Arab Emirates   mobile      Asia  Organic Search   \n",
              "800992  2020-12-16  United Arab Emirates  desktop      Asia       Undefined   \n",
              "800993  2020-12-17  United Arab Emirates   mobile      Asia          Direct   \n",
              "800994  2020-12-19  United Arab Emirates  desktop      Asia     Paid Search   \n",
              "800995  2020-12-21  United Arab Emirates  desktop      Asia  Organic Search   \n",
              "\n",
              "        test  test_group     event_name  value  \n",
              "0          2           2    new account      1  \n",
              "1          2           1    new account      1  \n",
              "2          2           2    new account      1  \n",
              "3          2           2    new account      1  \n",
              "4          2           1    new account      1  \n",
              "...      ...         ...            ...    ...  \n",
              "800991     1           2  session_start      1  \n",
              "800992     4           1         scroll      1  \n",
              "800993     3           1         scroll      1  \n",
              "800994     4           1      page_view      1  \n",
              "800995     4           1      page_view      1  \n",
              "\n",
              "[800996 rows x 9 columns]"
            ],
            "text/html": [
              "\n",
              "  <div id=\"df-c508f1e7-716f-4fba-bbba-cc47eb5efa90\" class=\"colab-df-container\">\n",
              "    <div>\n",
              "<style scoped>\n",
              "    .dataframe tbody tr th:only-of-type {\n",
              "        vertical-align: middle;\n",
              "    }\n",
              "\n",
              "    .dataframe tbody tr th {\n",
              "        vertical-align: top;\n",
              "    }\n",
              "\n",
              "    .dataframe thead th {\n",
              "        text-align: right;\n",
              "    }\n",
              "</style>\n",
              "<table border=\"1\" class=\"dataframe\">\n",
              "  <thead>\n",
              "    <tr style=\"text-align: right;\">\n",
              "      <th></th>\n",
              "      <th>date</th>\n",
              "      <th>country</th>\n",
              "      <th>device</th>\n",
              "      <th>continent</th>\n",
              "      <th>channel</th>\n",
              "      <th>test</th>\n",
              "      <th>test_group</th>\n",
              "      <th>event_name</th>\n",
              "      <th>value</th>\n",
              "    </tr>\n",
              "  </thead>\n",
              "  <tbody>\n",
              "    <tr>\n",
              "      <th>0</th>\n",
              "      <td>2020-11-01</td>\n",
              "      <td>Lithuania</td>\n",
              "      <td>mobile</td>\n",
              "      <td>Europe</td>\n",
              "      <td>Organic Search</td>\n",
              "      <td>2</td>\n",
              "      <td>2</td>\n",
              "      <td>new account</td>\n",
              "      <td>1</td>\n",
              "    </tr>\n",
              "    <tr>\n",
              "      <th>1</th>\n",
              "      <td>2020-11-01</td>\n",
              "      <td>El Salvador</td>\n",
              "      <td>desktop</td>\n",
              "      <td>Americas</td>\n",
              "      <td>Social Search</td>\n",
              "      <td>2</td>\n",
              "      <td>1</td>\n",
              "      <td>new account</td>\n",
              "      <td>1</td>\n",
              "    </tr>\n",
              "    <tr>\n",
              "      <th>2</th>\n",
              "      <td>2020-11-01</td>\n",
              "      <td>Slovakia</td>\n",
              "      <td>mobile</td>\n",
              "      <td>Europe</td>\n",
              "      <td>Paid Search</td>\n",
              "      <td>2</td>\n",
              "      <td>2</td>\n",
              "      <td>new account</td>\n",
              "      <td>1</td>\n",
              "    </tr>\n",
              "    <tr>\n",
              "      <th>3</th>\n",
              "      <td>2020-11-01</td>\n",
              "      <td>Lithuania</td>\n",
              "      <td>desktop</td>\n",
              "      <td>Europe</td>\n",
              "      <td>Paid Search</td>\n",
              "      <td>2</td>\n",
              "      <td>2</td>\n",
              "      <td>new account</td>\n",
              "      <td>1</td>\n",
              "    </tr>\n",
              "    <tr>\n",
              "      <th>4</th>\n",
              "      <td>2020-11-02</td>\n",
              "      <td>North Macedonia</td>\n",
              "      <td>desktop</td>\n",
              "      <td>Europe</td>\n",
              "      <td>Direct</td>\n",
              "      <td>2</td>\n",
              "      <td>1</td>\n",
              "      <td>new account</td>\n",
              "      <td>1</td>\n",
              "    </tr>\n",
              "    <tr>\n",
              "      <th>...</th>\n",
              "      <td>...</td>\n",
              "      <td>...</td>\n",
              "      <td>...</td>\n",
              "      <td>...</td>\n",
              "      <td>...</td>\n",
              "      <td>...</td>\n",
              "      <td>...</td>\n",
              "      <td>...</td>\n",
              "      <td>...</td>\n",
              "    </tr>\n",
              "    <tr>\n",
              "      <th>800991</th>\n",
              "      <td>2020-11-22</td>\n",
              "      <td>United Arab Emirates</td>\n",
              "      <td>mobile</td>\n",
              "      <td>Asia</td>\n",
              "      <td>Organic Search</td>\n",
              "      <td>1</td>\n",
              "      <td>2</td>\n",
              "      <td>session_start</td>\n",
              "      <td>1</td>\n",
              "    </tr>\n",
              "    <tr>\n",
              "      <th>800992</th>\n",
              "      <td>2020-12-16</td>\n",
              "      <td>United Arab Emirates</td>\n",
              "      <td>desktop</td>\n",
              "      <td>Asia</td>\n",
              "      <td>Undefined</td>\n",
              "      <td>4</td>\n",
              "      <td>1</td>\n",
              "      <td>scroll</td>\n",
              "      <td>1</td>\n",
              "    </tr>\n",
              "    <tr>\n",
              "      <th>800993</th>\n",
              "      <td>2020-12-17</td>\n",
              "      <td>United Arab Emirates</td>\n",
              "      <td>mobile</td>\n",
              "      <td>Asia</td>\n",
              "      <td>Direct</td>\n",
              "      <td>3</td>\n",
              "      <td>1</td>\n",
              "      <td>scroll</td>\n",
              "      <td>1</td>\n",
              "    </tr>\n",
              "    <tr>\n",
              "      <th>800994</th>\n",
              "      <td>2020-12-19</td>\n",
              "      <td>United Arab Emirates</td>\n",
              "      <td>desktop</td>\n",
              "      <td>Asia</td>\n",
              "      <td>Paid Search</td>\n",
              "      <td>4</td>\n",
              "      <td>1</td>\n",
              "      <td>page_view</td>\n",
              "      <td>1</td>\n",
              "    </tr>\n",
              "    <tr>\n",
              "      <th>800995</th>\n",
              "      <td>2020-12-21</td>\n",
              "      <td>United Arab Emirates</td>\n",
              "      <td>desktop</td>\n",
              "      <td>Asia</td>\n",
              "      <td>Organic Search</td>\n",
              "      <td>4</td>\n",
              "      <td>1</td>\n",
              "      <td>page_view</td>\n",
              "      <td>1</td>\n",
              "    </tr>\n",
              "  </tbody>\n",
              "</table>\n",
              "<p>800996 rows × 9 columns</p>\n",
              "</div>\n",
              "    <div class=\"colab-df-buttons\">\n",
              "\n",
              "  <div class=\"colab-df-container\">\n",
              "    <button class=\"colab-df-convert\" onclick=\"convertToInteractive('df-c508f1e7-716f-4fba-bbba-cc47eb5efa90')\"\n",
              "            title=\"Convert this dataframe to an interactive table.\"\n",
              "            style=\"display:none;\">\n",
              "\n",
              "  <svg xmlns=\"http://www.w3.org/2000/svg\" height=\"24px\" viewBox=\"0 -960 960 960\">\n",
              "    <path d=\"M120-120v-720h720v720H120Zm60-500h600v-160H180v160Zm220 220h160v-160H400v160Zm0 220h160v-160H400v160ZM180-400h160v-160H180v160Zm440 0h160v-160H620v160ZM180-180h160v-160H180v160Zm440 0h160v-160H620v160Z\"/>\n",
              "  </svg>\n",
              "    </button>\n",
              "\n",
              "  <style>\n",
              "    .colab-df-container {\n",
              "      display:flex;\n",
              "      gap: 12px;\n",
              "    }\n",
              "\n",
              "    .colab-df-convert {\n",
              "      background-color: #E8F0FE;\n",
              "      border: none;\n",
              "      border-radius: 50%;\n",
              "      cursor: pointer;\n",
              "      display: none;\n",
              "      fill: #1967D2;\n",
              "      height: 32px;\n",
              "      padding: 0 0 0 0;\n",
              "      width: 32px;\n",
              "    }\n",
              "\n",
              "    .colab-df-convert:hover {\n",
              "      background-color: #E2EBFA;\n",
              "      box-shadow: 0px 1px 2px rgba(60, 64, 67, 0.3), 0px 1px 3px 1px rgba(60, 64, 67, 0.15);\n",
              "      fill: #174EA6;\n",
              "    }\n",
              "\n",
              "    .colab-df-buttons div {\n",
              "      margin-bottom: 4px;\n",
              "    }\n",
              "\n",
              "    [theme=dark] .colab-df-convert {\n",
              "      background-color: #3B4455;\n",
              "      fill: #D2E3FC;\n",
              "    }\n",
              "\n",
              "    [theme=dark] .colab-df-convert:hover {\n",
              "      background-color: #434B5C;\n",
              "      box-shadow: 0px 1px 3px 1px rgba(0, 0, 0, 0.15);\n",
              "      filter: drop-shadow(0px 1px 2px rgba(0, 0, 0, 0.3));\n",
              "      fill: #FFFFFF;\n",
              "    }\n",
              "  </style>\n",
              "\n",
              "    <script>\n",
              "      const buttonEl =\n",
              "        document.querySelector('#df-c508f1e7-716f-4fba-bbba-cc47eb5efa90 button.colab-df-convert');\n",
              "      buttonEl.style.display =\n",
              "        google.colab.kernel.accessAllowed ? 'block' : 'none';\n",
              "\n",
              "      async function convertToInteractive(key) {\n",
              "        const element = document.querySelector('#df-c508f1e7-716f-4fba-bbba-cc47eb5efa90');\n",
              "        const dataTable =\n",
              "          await google.colab.kernel.invokeFunction('convertToInteractive',\n",
              "                                                    [key], {});\n",
              "        if (!dataTable) return;\n",
              "\n",
              "        const docLinkHtml = 'Like what you see? Visit the ' +\n",
              "          '<a target=\"_blank\" href=https://colab.research.google.com/notebooks/data_table.ipynb>data table notebook</a>'\n",
              "          + ' to learn more about interactive tables.';\n",
              "        element.innerHTML = '';\n",
              "        dataTable['output_type'] = 'display_data';\n",
              "        await google.colab.output.renderOutput(dataTable, element);\n",
              "        const docLink = document.createElement('div');\n",
              "        docLink.innerHTML = docLinkHtml;\n",
              "        element.appendChild(docLink);\n",
              "      }\n",
              "    </script>\n",
              "  </div>\n",
              "\n",
              "\n",
              "<div id=\"df-6ae360de-a6c0-4072-9297-1efac3d8fa29\">\n",
              "  <button class=\"colab-df-quickchart\" onclick=\"quickchart('df-6ae360de-a6c0-4072-9297-1efac3d8fa29')\"\n",
              "            title=\"Suggest charts\"\n",
              "            style=\"display:none;\">\n",
              "\n",
              "<svg xmlns=\"http://www.w3.org/2000/svg\" height=\"24px\"viewBox=\"0 0 24 24\"\n",
              "     width=\"24px\">\n",
              "    <g>\n",
              "        <path d=\"M19 3H5c-1.1 0-2 .9-2 2v14c0 1.1.9 2 2 2h14c1.1 0 2-.9 2-2V5c0-1.1-.9-2-2-2zM9 17H7v-7h2v7zm4 0h-2V7h2v10zm4 0h-2v-4h2v4z\"/>\n",
              "    </g>\n",
              "</svg>\n",
              "  </button>\n",
              "\n",
              "<style>\n",
              "  .colab-df-quickchart {\n",
              "      --bg-color: #E8F0FE;\n",
              "      --fill-color: #1967D2;\n",
              "      --hover-bg-color: #E2EBFA;\n",
              "      --hover-fill-color: #174EA6;\n",
              "      --disabled-fill-color: #AAA;\n",
              "      --disabled-bg-color: #DDD;\n",
              "  }\n",
              "\n",
              "  [theme=dark] .colab-df-quickchart {\n",
              "      --bg-color: #3B4455;\n",
              "      --fill-color: #D2E3FC;\n",
              "      --hover-bg-color: #434B5C;\n",
              "      --hover-fill-color: #FFFFFF;\n",
              "      --disabled-bg-color: #3B4455;\n",
              "      --disabled-fill-color: #666;\n",
              "  }\n",
              "\n",
              "  .colab-df-quickchart {\n",
              "    background-color: var(--bg-color);\n",
              "    border: none;\n",
              "    border-radius: 50%;\n",
              "    cursor: pointer;\n",
              "    display: none;\n",
              "    fill: var(--fill-color);\n",
              "    height: 32px;\n",
              "    padding: 0;\n",
              "    width: 32px;\n",
              "  }\n",
              "\n",
              "  .colab-df-quickchart:hover {\n",
              "    background-color: var(--hover-bg-color);\n",
              "    box-shadow: 0 1px 2px rgba(60, 64, 67, 0.3), 0 1px 3px 1px rgba(60, 64, 67, 0.15);\n",
              "    fill: var(--button-hover-fill-color);\n",
              "  }\n",
              "\n",
              "  .colab-df-quickchart-complete:disabled,\n",
              "  .colab-df-quickchart-complete:disabled:hover {\n",
              "    background-color: var(--disabled-bg-color);\n",
              "    fill: var(--disabled-fill-color);\n",
              "    box-shadow: none;\n",
              "  }\n",
              "\n",
              "  .colab-df-spinner {\n",
              "    border: 2px solid var(--fill-color);\n",
              "    border-color: transparent;\n",
              "    border-bottom-color: var(--fill-color);\n",
              "    animation:\n",
              "      spin 1s steps(1) infinite;\n",
              "  }\n",
              "\n",
              "  @keyframes spin {\n",
              "    0% {\n",
              "      border-color: transparent;\n",
              "      border-bottom-color: var(--fill-color);\n",
              "      border-left-color: var(--fill-color);\n",
              "    }\n",
              "    20% {\n",
              "      border-color: transparent;\n",
              "      border-left-color: var(--fill-color);\n",
              "      border-top-color: var(--fill-color);\n",
              "    }\n",
              "    30% {\n",
              "      border-color: transparent;\n",
              "      border-left-color: var(--fill-color);\n",
              "      border-top-color: var(--fill-color);\n",
              "      border-right-color: var(--fill-color);\n",
              "    }\n",
              "    40% {\n",
              "      border-color: transparent;\n",
              "      border-right-color: var(--fill-color);\n",
              "      border-top-color: var(--fill-color);\n",
              "    }\n",
              "    60% {\n",
              "      border-color: transparent;\n",
              "      border-right-color: var(--fill-color);\n",
              "    }\n",
              "    80% {\n",
              "      border-color: transparent;\n",
              "      border-right-color: var(--fill-color);\n",
              "      border-bottom-color: var(--fill-color);\n",
              "    }\n",
              "    90% {\n",
              "      border-color: transparent;\n",
              "      border-bottom-color: var(--fill-color);\n",
              "    }\n",
              "  }\n",
              "</style>\n",
              "\n",
              "  <script>\n",
              "    async function quickchart(key) {\n",
              "      const quickchartButtonEl =\n",
              "        document.querySelector('#' + key + ' button');\n",
              "      quickchartButtonEl.disabled = true;  // To prevent multiple clicks.\n",
              "      quickchartButtonEl.classList.add('colab-df-spinner');\n",
              "      try {\n",
              "        const charts = await google.colab.kernel.invokeFunction(\n",
              "            'suggestCharts', [key], {});\n",
              "      } catch (error) {\n",
              "        console.error('Error during call to suggestCharts:', error);\n",
              "      }\n",
              "      quickchartButtonEl.classList.remove('colab-df-spinner');\n",
              "      quickchartButtonEl.classList.add('colab-df-quickchart-complete');\n",
              "    }\n",
              "    (() => {\n",
              "      let quickchartButtonEl =\n",
              "        document.querySelector('#df-6ae360de-a6c0-4072-9297-1efac3d8fa29 button');\n",
              "      quickchartButtonEl.style.display =\n",
              "        google.colab.kernel.accessAllowed ? 'block' : 'none';\n",
              "    })();\n",
              "  </script>\n",
              "</div>\n",
              "\n",
              "  <div id=\"id_9ebaa1ef-afc7-4a62-934a-a2ad4a45b065\">\n",
              "    <style>\n",
              "      .colab-df-generate {\n",
              "        background-color: #E8F0FE;\n",
              "        border: none;\n",
              "        border-radius: 50%;\n",
              "        cursor: pointer;\n",
              "        display: none;\n",
              "        fill: #1967D2;\n",
              "        height: 32px;\n",
              "        padding: 0 0 0 0;\n",
              "        width: 32px;\n",
              "      }\n",
              "\n",
              "      .colab-df-generate:hover {\n",
              "        background-color: #E2EBFA;\n",
              "        box-shadow: 0px 1px 2px rgba(60, 64, 67, 0.3), 0px 1px 3px 1px rgba(60, 64, 67, 0.15);\n",
              "        fill: #174EA6;\n",
              "      }\n",
              "\n",
              "      [theme=dark] .colab-df-generate {\n",
              "        background-color: #3B4455;\n",
              "        fill: #D2E3FC;\n",
              "      }\n",
              "\n",
              "      [theme=dark] .colab-df-generate:hover {\n",
              "        background-color: #434B5C;\n",
              "        box-shadow: 0px 1px 3px 1px rgba(0, 0, 0, 0.15);\n",
              "        filter: drop-shadow(0px 1px 2px rgba(0, 0, 0, 0.3));\n",
              "        fill: #FFFFFF;\n",
              "      }\n",
              "    </style>\n",
              "    <button class=\"colab-df-generate\" onclick=\"generateWithVariable('ab')\"\n",
              "            title=\"Generate code using this dataframe.\"\n",
              "            style=\"display:none;\">\n",
              "\n",
              "  <svg xmlns=\"http://www.w3.org/2000/svg\" height=\"24px\"viewBox=\"0 0 24 24\"\n",
              "       width=\"24px\">\n",
              "    <path d=\"M7,19H8.4L18.45,9,17,7.55,7,17.6ZM5,21V16.75L18.45,3.32a2,2,0,0,1,2.83,0l1.4,1.43a1.91,1.91,0,0,1,.58,1.4,1.91,1.91,0,0,1-.58,1.4L9.25,21ZM18.45,9,17,7.55Zm-12,3A5.31,5.31,0,0,0,4.9,8.1,5.31,5.31,0,0,0,1,6.5,5.31,5.31,0,0,0,4.9,4.9,5.31,5.31,0,0,0,6.5,1,5.31,5.31,0,0,0,8.1,4.9,5.31,5.31,0,0,0,12,6.5,5.46,5.46,0,0,0,6.5,12Z\"/>\n",
              "  </svg>\n",
              "    </button>\n",
              "    <script>\n",
              "      (() => {\n",
              "      const buttonEl =\n",
              "        document.querySelector('#id_9ebaa1ef-afc7-4a62-934a-a2ad4a45b065 button.colab-df-generate');\n",
              "      buttonEl.style.display =\n",
              "        google.colab.kernel.accessAllowed ? 'block' : 'none';\n",
              "\n",
              "      buttonEl.onclick = () => {\n",
              "        google.colab.notebook.generateWithVariable('ab');\n",
              "      }\n",
              "      })();\n",
              "    </script>\n",
              "  </div>\n",
              "\n",
              "    </div>\n",
              "  </div>\n"
            ],
            "application/vnd.google.colaboratory.intrinsic+json": {
              "type": "dataframe",
              "variable_name": "ab"
            }
          },
          "metadata": {},
          "execution_count": 6
        }
      ]
    },
    {
      "cell_type": "markdown",
      "source": [
        "#Підготовлення даних (а саме створення dataframe для групи 1 та групи 2 з відповідними критеріями)"
      ],
      "metadata": {
        "id": "j5pNg7NvFmCV"
      }
    },
    {
      "cell_type": "code",
      "source": [
        "#Створення datafrema з значеннями групи 1 для add_payment_info,add_shipping_info,begin_checkout та new account\n",
        "ab_where_event_name = ab[(ab[\"event_name\"] == \"add_payment_info\") | (ab[\"event_name\"] == \"add_shipping_info\") | (ab[\"event_name\"] == \"begin_checkout\") | (ab[\"event_name\"] == \"new account\")]\n",
        "ab_where_event_name_group = ab_where_event_name.groupby([\"test\", \"test_group\", \"event_name\"])[\"value\"].sum().reset_index()\n",
        "ab_where_event_name_group_1=ab_where_event_name_group[ab_where_event_name_group[\"test_group\"] == 1]\n",
        "ab_where_event_name_group_1.insert(3, 'session', 'session')\n",
        "ab_where_event_name_group_1.loc[:, 'metric'] = ab_where_event_name_group_1['event_name'].astype(str) + \"/\" + ab_where_event_name_group_1['session'].astype(str)\n",
        "cols = ab_where_event_name_group_1.columns.tolist()\n",
        "cols.insert(1, cols.pop(cols.index('metric')))\n",
        "ab_where_event_name_group_1 = ab_where_event_name_group_1[cols]\n",
        "#Створення datafrema з значеннями групи 2 для add_payment_info,add_shipping_info,begin_checkout та new account\n",
        "ab_where_event_name_group_2=ab_where_event_name_group[ab_where_event_name_group[\"test_group\"] == 2]"
      ],
      "metadata": {
        "collapsed": true,
        "id": "Fat97zhEd751"
      },
      "execution_count": null,
      "outputs": []
    },
    {
      "cell_type": "code",
      "source": [
        "#Підрахунок session за групою 1 та 2\n",
        "ab_where_session = ab[(ab[\"event_name\"] == \"session\")]\n",
        "ab_where_session_group = ab_where_session.groupby([\"test\", \"test_group\"])[\"value\"].sum().reset_index()\n",
        "ab_where_session_group1=ab_where_session_group[ab_where_session_group[\"test_group\"] == 1]\n",
        "ab_where_session_group2=ab_where_session_group[ab_where_session_group[\"test_group\"] == 2]"
      ],
      "metadata": {
        "id": "qMlIMRuTgtqN"
      },
      "execution_count": null,
      "outputs": []
    },
    {
      "cell_type": "markdown",
      "source": [
        "#Об'єднання підготовлених даних в один Dateframe"
      ],
      "metadata": {
        "id": "zSxAFZNDGWZr"
      }
    },
    {
      "cell_type": "code",
      "source": [
        "#Об'єднання результатів event_name i session для кожної групи\n",
        "ab_where_event_name_and_session_for_group_1 = ab_where_event_name_group_1.merge(ab_where_session_group1[['test', 'test_group', \"value\"]], on=['test', 'test_group'], how='inner')\n",
        "ab_where_event_name_and_session_for_group_2 = ab_where_event_name_group_2.merge(ab_where_session_group2[['test', 'test_group', \"value\"]], on=['test', 'test_group'], how='inner')"
      ],
      "metadata": {
        "id": "ib9Y6_6XhuNb"
      },
      "execution_count": null,
      "outputs": []
    },
    {
      "cell_type": "code",
      "source": [
        "#Видалення непотрібних стовпців та змінення назв стовпців\n",
        "total_for_group_1 = ab_where_event_name_and_session_for_group_1.drop(columns=[\"test_group\"])\n",
        "total_for_group_1 = total_for_group_1.rename(columns={'value_x': 'numerator_for_group_1', 'value_y': 'denominator_for_group_1'})\n",
        "total_for_group_2 = ab_where_event_name_and_session_for_group_2.drop(columns=[\"test_group\"])\n",
        "total_for_group_2 = total_for_group_2.rename(columns={'value_x': 'numerator_for_group_2', 'value_y': 'denominator_for_group_2'})"
      ],
      "metadata": {
        "id": "Rr7Um1wsjxpY"
      },
      "execution_count": null,
      "outputs": []
    },
    {
      "cell_type": "code",
      "source": [
        "#Об'єднання результатів 2-ох груп\n",
        "total = total_for_group_1.merge(total_for_group_2[['test', 'event_name', \"numerator_for_group_2\", \"denominator_for_group_2\"]], on=['test', 'event_name'], how='inner')"
      ],
      "metadata": {
        "id": "APp9cbBFlGoM"
      },
      "execution_count": null,
      "outputs": []
    },
    {
      "cell_type": "markdown",
      "source": [
        "#Конверсія"
      ],
      "metadata": {
        "id": "CFnpZqvCGipv"
      }
    },
    {
      "cell_type": "code",
      "source": [
        "#Порахуємо конверсію\n",
        "total.loc[:, 'conversion_for_group_1'] = total['numerator_for_group_1'] / total['denominator_for_group_1']\n",
        "col = total.columns.tolist()\n",
        "col.insert(6, col.pop(col.index('conversion_for_group_1')))\n",
        "total = total[col]\n",
        "total.loc[:, 'conversion_for_group_2'] = total['numerator_for_group_2'] / total['denominator_for_group_2']\n",
        "total[\"metric_change\"] = (total[\"conversion_for_group_2\"] / total[\"conversion_for_group_1\"] - 1)*100"
      ],
      "metadata": {
        "id": "DmcSnZegmiN_"
      },
      "execution_count": null,
      "outputs": []
    },
    {
      "cell_type": "markdown",
      "source": [
        "#Перевірка на нормальність"
      ],
      "metadata": {
        "id": "R2_2vwwZGntb"
      }
    },
    {
      "cell_type": "code",
      "source": [
        "#перевірка на нормальність кожної групи, тесту, та за event_name\n",
        "from scipy.stats import shapiro\n",
        "import scipy.stats as stats\n",
        "ab_where_1 = ab[(ab[\"event_name\"] == \"new account\")]\n",
        "\n",
        "def check_normality(values):\n",
        "  stat, p = shapiro(values)\n",
        "  return p > 0.05\n",
        "for group in ab_where_1['test_group'].unique():\n",
        "  for test in ab_where_1['test'].unique():\n",
        "    subset = ab_where_1[(ab_where_1['test_group'] == group) & (ab_where_1['test'] == test)]['value']\n",
        "    if len(subset) > 0:\n",
        "      is_normal = check_normality(subset)\n",
        "      result = \"ок\" if is_normal else \"не ок\"\n",
        "      print(f'Група {group}, Тест {test}: Дані {result}')"
      ],
      "metadata": {
        "collapsed": true,
        "id": "kBgD0vTls8kv",
        "colab": {
          "base_uri": "https://localhost:8080/"
        },
        "outputId": "f24df094-609d-4611-ebbb-80f74c0b2b37"
      },
      "execution_count": null,
      "outputs": [
        {
          "output_type": "stream",
          "name": "stdout",
          "text": [
            "Група 2, Тест 2: Дані не ок\n",
            "Група 2, Тест 1: Дані не ок\n",
            "Група 2, Тест 4: Дані не ок\n",
            "Група 2, Тест 3: Дані не ок\n",
            "Група 1, Тест 2: Дані не ок\n",
            "Група 1, Тест 1: Дані не ок\n",
            "Група 1, Тест 4: Дані не ок\n",
            "Група 1, Тест 3: Дані не ок\n"
          ]
        }
      ]
    },
    {
      "cell_type": "code",
      "source": [
        "from statsmodels.stats.proportion import proportions_ztest\n",
        "def calculate_z_stat_and_p_value(row):\n",
        "    successes = [row[\"numerator_for_group_1\"], row[\"numerator_for_group_2\"]]\n",
        "    totals = [row[\"denominator_for_group_1\"], row[\"denominator_for_group_2\"]]\n",
        "    z_stat, p_value = proportions_ztest(successes, totals, alternative='two-sided')\n",
        "    return pd.Series({\"z_stat\": z_stat, \"p_value\": p_value})\n",
        "total[[\"z_stat\", \"p_value\"]] = total.apply(calculate_z_stat_and_p_value, axis=1)\n",
        "total[\"significant\"] = total[\"p_value\"] < 0.05"
      ],
      "metadata": {
        "id": "fRj0AGiW2Czl"
      },
      "execution_count": null,
      "outputs": []
    },
    {
      "cell_type": "markdown",
      "source": [
        "#Збереження даних до текстового файлу"
      ],
      "metadata": {
        "id": "mu9aOhJPGtgc"
      }
    },
    {
      "cell_type": "code",
      "source": [
        "total.to_csv('output.tsv', sep='\\t', index=False)"
      ],
      "metadata": {
        "id": "lKXHkDWKJql9"
      },
      "execution_count": null,
      "outputs": []
    },
    {
      "cell_type": "markdown",
      "source": [
        "#Результати"
      ],
      "metadata": {
        "id": "tAeIA7TEG3jx"
      }
    },
    {
      "cell_type": "markdown",
      "source": [
        "1. [Dashboard1](https://public.tableau.com/app/profile/nataliia.krasilynets/viz/PortfolioProject1_17359277313610/Dashboard1?publish=yes)\n",
        "[Dashboard2](https://public.tableau.com/app/profile/nataliia.krasilynets/viz/ABtest_17354958345990/ABtest?publish=yes)\n",
        "2. [tsv](https://drive.google.com/file/d/1-2jVqKa9A7aiU-8bTTJgpyL_qEBZ24dV/view?usp=sharing)"
      ],
      "metadata": {
        "id": "W5u5e2IRXqsF"
      }
    },
    {
      "cell_type": "markdown",
      "source": [
        "# Висновки:\n",
        "1. Зміни в тесті 1 позитивно повпливали на метрику:\n",
        "- add_payment_info/session та збільшили її на 12.5%.\n",
        "- add_shipping_info/session та збільшили її на 6.5%.\n",
        "- begin_checkout/session та збільшили її на 6.6%.\n",
        "\n",
        "З вірогідністю 95%, даний вплив не є випадковим.\n",
        "\n",
        "Для метрики new account/session\tвплив є випадковим, якщо, навіть, і збільшимо вибірку для статистичної значущості, то матимемо просідку.\n",
        "\n",
        "2. Тест 2 жодна із метрик не дала позитивного результату. Для того щоб тест був статистично значущим потрібна вибірка 2*1,126,212=2252424\n",
        "3. В тесті 3/4 лише одна/дві метрики дали позитивний результат, при  цьому маємо в них просідку\n",
        "4. Тест 4 жодна із метрик не є статистично значущою.\n",
        "\n",
        "###Тому лише для 3-ох метрик add_payment_info/session, add_shipping_info/session та begin_checkout/session можемо ввести зміни з тесту 1\n"
      ],
      "metadata": {
        "id": "N5gH_c5uYYYA"
      }
    }
  ]
}